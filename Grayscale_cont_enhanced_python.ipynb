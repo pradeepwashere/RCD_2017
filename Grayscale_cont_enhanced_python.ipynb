{
 "cells": [
  {
   "cell_type": "code",
   "execution_count": 11,
   "metadata": {
    "collapsed": true
   },
   "outputs": [],
   "source": [
    "from pynq.overlays.base import BaseOverlay\n",
    "base = BaseOverlay(\"base.bit\")\n",
    "from pynq.lib.video import *\n",
    "import cv2\n",
    "import numpy as np\n",
    "import time\n",
    "\n",
    "CONTRAST_THRESHOLD = 80\n",
    "HISTOGRAM_SIZE = 256\n",
    "mini = 0\n",
    "maxi = 255\n",
    "diff = 255\n",
    "histogram = np.zeros(HISTOGRAM_SIZE, dtype = np.uint)"
   ]
  },
  {
   "cell_type": "code",
   "execution_count": 12,
   "metadata": {},
   "outputs": [
    {
     "data": {
      "text/plain": [
       "<contextlib._GeneratorContextManager at 0x23fcc330>"
      ]
     },
     "execution_count": 12,
     "metadata": {},
     "output_type": "execute_result"
    }
   ],
   "source": [
    "hdmi_in = base.video.hdmi_in\n",
    "hdmi_out = base.video.hdmi_out\n",
    "hdmi_in.configure(PIXEL_RGB)\n",
    "hdmi_out.configure(hdmi_in.mode, PIXEL_RGB)\n",
    "hdmi_in.start()\n",
    "hdmi_out.start()"
   ]
  },
  {
   "cell_type": "code",
   "execution_count": 13,
   "metadata": {},
   "outputs": [
    {
     "name": "stdout",
     "output_type": "stream",
     "text": [
      "Frames per second:  0.0023909867477575255\n"
     ]
    }
   ],
   "source": [
    "start = time.time()\n",
    "height = hdmi_in.mode.height\n",
    "width = hdmi_in.mode.width\n",
    "gray_frame = np.ndarray(shape=(height, \n",
    "                              width), dtype=np.uint8)\n",
    "numframes = 10\n",
    "for _ in range(numframes):\n",
    "    capture = hdmi_in.readframe()\n",
    "    for i in range(0,height):\n",
    "        for j in range(0,width):\n",
    "            gray_frame[i,j] = np.uint8(0.3*capture[i,j,2] + 0.59*capture[i,j,1] + 0.11*capture[i,j,0])\n",
    "            histogram[gray_frame[i,j]] = histogram[gray_frame[i,j]] + 1\n",
    "            if(gray_frame[i,j] < mini):\n",
    "                gray_frame[i,j] = 0\n",
    "            elif(gray_frame[i,j] > maxi):\n",
    "                gray_frame[i,j] = 255\n",
    "            else: #if((gray_frame[i,j] >= mini) and (gray_frame[i,j] <= maxi)):\n",
    "                gray_frame[i,j] = np.uint8((maxi*(gray_frame[i,j]-mini)/diff))\n",
    "\n",
    "    x = 0\n",
    "    while((x < HISTOGRAM_SIZE) and (histogram[x] < CONTRAST_THRESHOLD)):\n",
    "        x = x + 1\n",
    "    mini = x\n",
    "    x = HISTOGRAM_SIZE - 1\n",
    "    while((x > mini) and (histogram[x] < CONTRAST_THRESHOLD)):\n",
    "        x = x - 1\n",
    "    maxi = x\n",
    "    diff = maxi - mini\n",
    "    outframe = hdmi_out.newframe()\n",
    "    cv2.cvtColor(gray_frame, cv2.COLOR_GRAY2RGB,dst=outframe)\n",
    "    hdmi_out.writeframe(outframe)\n",
    "    capture.freebuffer()\n",
    "    \n",
    "end = time.time()\n",
    "print(\"Frames per second:  \" + str(numframes / (end - start)))"
   ]
  },
  {
   "cell_type": "code",
   "execution_count": 10,
   "metadata": {
    "collapsed": true
   },
   "outputs": [],
   "source": [
    "hdmi_out.stop()\n",
    "hdmi_in.stop()\n",
    "del hdmi_in, hdmi_out"
   ]
  },
  {
   "cell_type": "code",
   "execution_count": null,
   "metadata": {
    "collapsed": true
   },
   "outputs": [],
   "source": []
  }
 ],
 "metadata": {
  "kernelspec": {
   "display_name": "Python 3",
   "language": "python",
   "name": "python3"
  },
  "language_info": {
   "codemirror_mode": {
    "name": "ipython",
    "version": 3
   },
   "file_extension": ".py",
   "mimetype": "text/x-python",
   "name": "python",
   "nbconvert_exporter": "python",
   "pygments_lexer": "ipython3",
   "version": "3.6.0"
  }
 },
 "nbformat": 4,
 "nbformat_minor": 2
}
